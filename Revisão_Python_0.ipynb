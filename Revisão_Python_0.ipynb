{
  "nbformat": 4,
  "nbformat_minor": 0,
  "metadata": {
    "colab": {
      "provenance": [],
      "toc_visible": true,
      "authorship_tag": "ABX9TyPj5ngM/uK0GkEe8/yh6e3e",
      "include_colab_link": true
    },
    "kernelspec": {
      "name": "python3",
      "display_name": "Python 3"
    },
    "language_info": {
      "name": "python"
    }
  },
  "cells": [
    {
      "cell_type": "markdown",
      "metadata": {
        "id": "view-in-github",
        "colab_type": "text"
      },
      "source": [
        "<a href=\"https://colab.research.google.com/github/KevinBezerra/arquivos-legais/blob/main/Revis%C3%A3o_Python_0.ipynb\" target=\"_parent\"><img src=\"https://colab.research.google.com/assets/colab-badge.svg\" alt=\"Open In Colab\"/></a>"
      ]
    },
    {
      "cell_type": "code",
      "execution_count": null,
      "metadata": {
        "id": "iWwBD8O8j_ME"
      },
      "outputs": [],
      "source": [
        "#Kevin Vinnícius Moura Bezerra\n",
        "#RID #55192"
      ]
    },
    {
      "cell_type": "markdown",
      "source": [
        "Questão 1 Classiﬁque os tipos de dados das seguintes variáveis\n",
        "\n",
        "1.\tx = 5\n",
        "2.\tx = 5.0\n",
        "3.\tx = 5.5\n",
        "4.\tx = 'DNC'\n",
        "5.\tx = 1/2\n",
        "6.\tx = 0.5 * 2\n",
        "7.\tx = 2 ** 4\n",
        "8.\tx = 2+4\n",
        "9.\tx = 1000000000\n",
        "10. para o usuário inputar um dado inteiro e conﬁra o tipo dele\n",
        "11. Peça para o usuário inputar um dado ﬂoat e conﬁra o tipo dele\n",
        "12. Peça para o usuário inputar um dado string e conﬁra o tipo dele\n",
        "13. Peça para o usuário inputar um dado sem deﬁnir o tipo e conﬁra o tipo dele\n"
      ],
      "metadata": {
        "id": "cP13iSbRlNNy"
      }
    },
    {
      "cell_type": "code",
      "source": [
        "#1 é int\n",
        "#2 é float\n",
        "#3 é float\n",
        "#4 é string\n",
        "#5 é float\n",
        "#6 é float\n",
        "#7 é int\n",
        "#8 é int\n",
        "#9 é int\n",
        "\n",
        "for i in l:\n",
        "  print(type(i))\n",
        "\n",
        "f = int(input('inpute um dado inteiro '))\n",
        "if type(f) == int:\n",
        "  print('O dado é um inteiro')\n",
        "\n",
        "\n",
        "b = float(input('Inpute um float '))\n",
        "if type(b) == float:\n",
        "  print('O dado é um float')\n",
        "\n",
        "\n",
        "c = input('Inpute uma string ')\n",
        "if type(c) == str:\n",
        "  print('O dado é uma string')\n",
        "\n",
        "  a = input('Inpute um dado: ')\n",
        "print(f'O tipo do seu dado é: {type(a)}')"
      ],
      "metadata": {
        "colab": {
          "base_uri": "https://localhost:8080/"
        },
        "id": "PdHTrnhZlZYN",
        "outputId": "47171256-c09e-40bd-ecd5-a64a77e04d77"
      },
      "execution_count": null,
      "outputs": [
        {
          "output_type": "stream",
          "name": "stdout",
          "text": [
            "<class 'int'>\n",
            "<class 'float'>\n",
            "<class 'float'>\n",
            "<class 'str'>\n",
            "<class 'float'>\n",
            "<class 'float'>\n",
            "<class 'int'>\n",
            "<class 'int'>\n",
            "<class 'int'>\n",
            "inpute um dado inteiro 8\n",
            "O dado é um inteiro\n",
            "Inpute um float 8.8\n",
            "O dado é um float\n",
            "Inpute uma string u\n",
            "O dado é uma string\n",
            "Inpute um dado: a\n",
            "O tipo do seu dado é: <class 'str'>\n"
          ]
        }
      ]
    },
    {
      "cell_type": "markdown",
      "source": [
        "Questão 2: Faça um print com duas linhas tracejadas acima e duas abaixo com  50 linhas em cada uma delas e no meio coloque \"DS06 - DNC\""
      ],
      "metadata": {
        "id": "wUtmK1ozpX8Y"
      }
    },
    {
      "cell_type": "code",
      "source": [
        "print('-' * 50)\n",
        "print('-' * 19, 'DS06 - DNC', '-' * 19)\n",
        "print('-' * 50)"
      ],
      "metadata": {
        "colab": {
          "base_uri": "https://localhost:8080/"
        },
        "id": "NQV6mXjEpZxA",
        "outputId": "42be000d-90c1-4d15-d78b-cfb032fc5fbb"
      },
      "execution_count": null,
      "outputs": [
        {
          "output_type": "stream",
          "name": "stdout",
          "text": [
            "--------------------------------------------------\n",
            "------------------- DS06 - DNC -------------------\n",
            "--------------------------------------------------\n"
          ]
        }
      ]
    },
    {
      "cell_type": "markdown",
      "source": [
        "Questão 3. Você acabou de se formar na turma 05 de Formação em dados  e conseguiu um emprego de um cientista de dados jr. com um salário de  R$10.000,00 mensais. Você quer calcular quanto conseguirá guardar na  poupança ao ﬁnal do mês depois que pagar suas contas. Considere os  dados abaixo para fazer um print igual ao que está em anexo.\n",
        "\n",
        "salario_cientista_de_dados = 10000.00\n",
        "parcela_bmw = 2500.45\n",
        "parcela_apartamento = 3500.50\n",
        "veterinario_romeuzinho = 500.00\n",
        "luz = 100.80\n",
        "agua = 80.35\n",
        "condominio = 800.44\n",
        "gas = 150.65"
      ],
      "metadata": {
        "id": "0ucdksVepyfu"
      }
    },
    {
      "cell_type": "code",
      "source": [
        "salario = 10000.00\n",
        "bmw = 2500.45\n",
        "apartamento = 3500.50\n",
        "veterinario = 500.00\n",
        "luz = 100.80\n",
        "agua = 80.35\n",
        "condominio = 800.44\n",
        "gas = 150.65\n",
        "\n",
        "gastos_total = bmw + apartamento + veterinario + luz + agua + condominio + gas\n",
        "\n",
        "print(f'O seu salário de cientista de dados jr é de: {salario} e seus gastos estão dispostos a seguir:')\n",
        "print(f'Parcela da BMW: {bmw}')\n",
        "print(f'Parcela do apartamento: {apartamento}')\n",
        "print(f'Veterinário do Romeuzinho: {veterinario}')\n",
        "print(f'Conta de luz: {luz}')\n",
        "print(f'Conta de água: {agua}')\n",
        "print(f'Conta de condomínio: {condominio}')\n",
        "print(f'Conta de gás: {gas}')\n",
        "print(f'Seus gastos totais são de {gastos_total:.2f}')\n",
        "\n",
        "print(f'O valor disponível para colocar na poupança é de: R$ {salario - gastos_total:.2f}')"
      ],
      "metadata": {
        "colab": {
          "base_uri": "https://localhost:8080/"
        },
        "id": "Vn-TGqmSqIod",
        "outputId": "8a4813e9-7c61-4782-99f3-a0f156f34798"
      },
      "execution_count": null,
      "outputs": [
        {
          "output_type": "stream",
          "name": "stdout",
          "text": [
            "O seu salário de cientista de dados jr é de: 10000.0 e seus gastos estão dispostos a seguir:\n",
            "Parcela da BMW: 2500.45\n",
            "Parcela do apartamento: 3500.5\n",
            "Veterinário do Romeuzinho: 500.0\n",
            "Conta de luz: 100.8\n",
            "Conta de água: 80.35\n",
            "Conta de condomínio: 800.44\n",
            "Conta de gás: 150.65\n",
            "Seus gastos totais são de 7633.19\n",
            "O valor disponível para colocar na poupança é de: R$ 2366.81\n"
          ]
        }
      ]
    },
    {
      "cell_type": "markdown",
      "source": [
        "Questão 4: Você é um vendedor de cursos na DNC e os clientes entram em contato com  você para adquirir um de nossos seguintes cursos (Com os respectivos valores) e o  cliente pode escolher apenas 1,\n",
        "\n",
        "Formação_em_dados = 20000.00\n",
        "Formação_em_projetos = 15000.00\n",
        "Formação_em_marketing = 13000.00\n",
        "Formação_em_produto = 18000.00\n",
        "Formação_em_tecnologia = 19000.00\n",
        "\n",
        "Monte um código onde a primeira pergunta será \"Qual curso você quer escolher (1 =  Formação_em_dados, 2 = Formação_em_projetos, 3 = Formação_em_marketing, 4=  Formação_em_produto, 5 = Formação_em_tecnologia)?\"\n",
        "E de acordo com a escolha, ele entre em um if e emita a seguinte mensagem padrão  \"Você escolheu o curso Formação em XXXXX no valor de R$ valor que começará no  próximo mês\".\n",
        "\n",
        "Caso o usuário digite um valor diferente dos dispostos, emita a seguinte mensagem  \"Digite um valor correspondente a um curso de nossas formações \\n1-Formação em  dados \\n2-Formação em projetos\\n3-Formação em marketing\\n4-Formação em  produto\\n5-Formação em tecnologia\"\n",
        "\n"
      ],
      "metadata": {
        "id": "ciwdX_Ocspq0"
      }
    },
    {
      "cell_type": "code",
      "source": [
        "dados = 20000.00\n",
        "projetos = 15000.00\n",
        "marketing = 13000.00\n",
        "produto = 18000.00\n",
        "tecnologia = 19000.00\n",
        "\n",
        "print('Qual curso você quer escolher?')\n",
        "print('1. Formação em dados?')\n",
        "print('2. Formação em projetos?')\n",
        "print('3. Formação em marketing?')\n",
        "print('4. Formação em produto?')\n",
        "print('5. Formação em tecnologia?')\n",
        "\n",
        "curso = int(input('Digite o número correspondente ao curso: '))\n",
        "if curso == 1:\n",
        "  print(f'Você escolheu o curso Formação em dados no valor de R${dados} que começará no próximo mês')\n",
        "if curso == 2:\n",
        "  print(f'Você escolheu o curso Formação em projetos no valor de R${projetos} que começará no próximo mês')\n",
        "if curso == 3:\n",
        "  print(f'Você escolheu o curso Formação em marketing no valor de R${marketing} que começará no próximo mês')\n",
        "if curso == 4:\n",
        "  print(f'Você escolheu o curso Formação em produto no valor de R${produto} que começará no próximo mês')\n",
        "if curso == 5:\n",
        "  print(f'Você escolheu o curso Formação em tecnologia no valor de R${tecnologia} que começará no próximo mês')\n",
        "else:\n",
        "  print('Digite um valor correspondente a um curso de nossas formações \\n1-Formação em dados \\n2-Formação em projetos\\n3-Formação em marketing\\n4-Formação em produto\\n5-Formação em tecnologia')\n"
      ],
      "metadata": {
        "colab": {
          "base_uri": "https://localhost:8080/"
        },
        "id": "bysjTg79sw_M",
        "outputId": "3430afd3-f45e-435b-eb43-528173c2a15e"
      },
      "execution_count": null,
      "outputs": [
        {
          "output_type": "stream",
          "name": "stdout",
          "text": [
            "Qual curso você quer escolher?\n",
            "1. Formação em dados?\n",
            "2. Formação em projetos?\n",
            "3. Formação em marketing?\n",
            "4. Formação em produto?\n",
            "5. Formação em tecnologia?\n",
            "Digite o número correspondente ao curso: 8\n",
            "Digite um valor correspondente a um curso de nossas formações \n",
            "1-Formação em dados \n",
            "2-Formação em projetos\n",
            "3-Formação em marketing\n",
            "4-Formação em produto\n",
            "5-Formação em tecnologia\n"
          ]
        }
      ]
    },
    {
      "cell_type": "markdown",
      "source": [
        "Questão 5. A DNC pretende faturar 2 milhões em 1 mês. Faça a leitura da quantidade de vendas de cada formação e calcule a receita total de vendas, a receita media geral e verifique se eles bateram a meta mensal utilizando as seguintes mensagens\n",
        "Se bateram: \"Parabéns!!! A DNC bateu a meta do mês\"\n",
        "Se não bateram: \"Esse mês não batemos a meta, porém mês que vem vamos vir mais forte pra recuperar!!!\"\n"
      ],
      "metadata": {
        "id": "SQqr7KKCuxce"
      }
    },
    {
      "cell_type": "code",
      "source": [
        "dados = 20000.00\n",
        "vendas_dados = 0\n",
        "projetos = 15000.00\n",
        "vendas_projetos = 0\n",
        "marketing = 13000.00\n",
        "vendas_marketing = 0\n",
        "produto = 18000.00\n",
        "vendas_produto = 0\n",
        "tecnologia = 19000.00\n",
        "vendas_tecnologia = 0\n",
        "\n",
        "vendas_dados = dados * (int(input('Quantas vendas tivemos no curso dados? ')))\n",
        "vendas_projetos = projetos * (int(input('Quantas vendas tivemos no curso projetos? ')))\n",
        "vendas_marketing = marketing * (int(input('Quantas vendas tivemos no curso marketing? ')))\n",
        "vendas_produto = produto * (int(input('Quantas vendas tivemos no curso produto? ')))\n",
        "vendas_tecnologia = tecnologia * (int(input('Quantas vendas tivemos no curso tecnologia? ')))\n",
        "\n",
        "total = vendas_dados + vendas_projetos + vendas_marketing + vendas_produto + vendas_tecnologia\n",
        "média = total / 5\n",
        "\n",
        "print('O faturamento total foi de: {} e a receita média geral foi de {}'.format(total, média))\n",
        "if total >= 2000000:\n",
        "  print('Parabéns!!! A DNC bateu a meta do mês')\n",
        "else:\n",
        "  print('Esse mês não batemos a meta, porém mês que vem vamos vir mais forte pra recuperar!!!')\n",
        "\n"
      ],
      "metadata": {
        "colab": {
          "base_uri": "https://localhost:8080/"
        },
        "id": "Mfv0hrSAu4-I",
        "outputId": "f8479326-80c0-4a50-cdbc-28daeed650b6"
      },
      "execution_count": null,
      "outputs": [
        {
          "output_type": "stream",
          "name": "stdout",
          "text": [
            "Quantas vendas tivemos no curso dados? 70\n",
            "Quantas vendas tivemos no curso projetos? 80\n",
            "Quantas vendas tivemos no curso marketing? 90\n",
            "Quantas vendas tivemos no curso produto? 10\n",
            "Quantas vendas tivemos no curso tecnologia? 100\n",
            "O faturamento total foi de: 5850000.0 e a receita média geral foi de 1170000.0\n",
            "Parabéns!!! A DNC bateu a meta do mês\n"
          ]
        }
      ]
    },
    {
      "cell_type": "markdown",
      "source": [
        "Questão 6. O aluno da DNC precisa fazer um código que faça a somatória de uma  sequência de números um por um, informando no começo do código qual a posição a somatória  deve parar. Monte uma estrutura de repetição que resolva esse problema.\u000b\u000bExemplo: Ele vai parar no numero 3, então vai somar 1+2+3"
      ],
      "metadata": {
        "id": "_15tdljf0DwK"
      }
    },
    {
      "cell_type": "code",
      "source": [
        "a = 0\n",
        "\n",
        "for i in range(0,10+1):\n",
        "  a += i\n",
        "  \n",
        "print(a)\n"
      ],
      "metadata": {
        "colab": {
          "base_uri": "https://localhost:8080/"
        },
        "id": "rJkFz_ml0GX2",
        "outputId": "6d8ef170-33f5-4600-dcb8-c89c82dc467f"
      },
      "execution_count": null,
      "outputs": [
        {
          "output_type": "stream",
          "name": "stdout",
          "text": [
            "55\n"
          ]
        }
      ]
    },
    {
      "cell_type": "markdown",
      "source": [
        "Questão 7. O aluno da DNC está no spotify e percebeu que poderia criar um código  para demonstrar como o spotify troca de música. Faça uma estrutura de repetição que  quando digita-se 'p' o código emitirá uma mensagem \"Próxima música\" e qualquer  outra letra ou número o código emitirá uma mensagem \"Fechando o app\" \"Até a  próxima\"\n"
      ],
      "metadata": {
        "id": "S7uFTW370xpT"
      }
    },
    {
      "cell_type": "code",
      "source": [
        "i = 1\n",
        "while True:\n",
        "  print(f'Tocando música {i}')\n",
        "  a = str(input('Para próxima música, digite \"p\". '))\n",
        "  if a == 'p':\n",
        "    i += 1\n",
        "  else:\n",
        "    print('Fechando app. Até a próxima!')\n",
        "    break"
      ],
      "metadata": {
        "colab": {
          "base_uri": "https://localhost:8080/"
        },
        "id": "JAiIinJW0z6K",
        "outputId": "b2919a30-a027-42b6-fc07-da54c589f403"
      },
      "execution_count": null,
      "outputs": [
        {
          "output_type": "stream",
          "name": "stdout",
          "text": [
            "Tocando música 1\n",
            "Para próxima música, digite \"p\". p\n",
            "Tocando música 2\n",
            "Para próxima música, digite \"p\". p\n",
            "Tocando música 3\n",
            "Para próxima música, digite \"p\". p\n",
            "Tocando música 4\n",
            "Para próxima música, digite \"p\". p\n",
            "Tocando música 5\n",
            "Para próxima música, digite \"p\". p\n",
            "Tocando música 6\n",
            "Para próxima música, digite \"p\". n\n",
            "Fechando app. Até a próxima!\n"
          ]
        }
      ]
    },
    {
      "cell_type": "markdown",
      "source": [
        "Questão 8. O aluno da DNC quer criar um código para dar parabéns para 3 pessoas do  seu grupo de projeto, como reconhecimento de seu trabalho duro. Faça uma estrutura  de repetição onde seja informado 3 nomes e printado a seguinte mensagem \"Parabéns  por toda sua ajuda no projeto, você está sendo essencial para o resultado que estamos  atingindo, NOME DA PESSOA\""
      ],
      "metadata": {
        "id": "hrBTXBgH17yB"
      }
    },
    {
      "cell_type": "code",
      "source": [
        "amigos = ['Elaine', 'Carlos', 'Joel']\n",
        "for i in amigos:\n",
        "  print(f'Parabéns por toda sua ajuda no projeto, você está sendo essencial para o resultado que estamos atingindo, {i}')\n",
        "  "
      ],
      "metadata": {
        "colab": {
          "base_uri": "https://localhost:8080/"
        },
        "id": "Rt7x8aAR2Erg",
        "outputId": "828622a5-b278-42e2-e848-1b42ce7614f3"
      },
      "execution_count": null,
      "outputs": [
        {
          "output_type": "stream",
          "name": "stdout",
          "text": [
            "Parabéns por toda sua ajuda no projeto, você está sendo essencial para o resultado que estamos atingindo, Elaine\n",
            "Parabéns por toda sua ajuda no projeto, você está sendo essencial para o resultado que estamos atingindo, Carlos\n",
            "Parabéns por toda sua ajuda no projeto, você está sendo essencial para o resultado que estamos atingindo, Joel\n"
          ]
        }
      ]
    },
    {
      "cell_type": "markdown",
      "source": [
        "Questão 9. Um aluno da DNC tem uma certa quantidade de notas em seu cofrinho e  hoje ele decidiu quebrá-lo, com isso ele quer criar um programa que armazene todas as  notas e ao ﬁnal do processo ele quer saber o valor total e printar as notas que ele  possui na tela. Monte uma estrutura onde seja guardado os valores das notas e imprima  a soma delas ao ﬁnal. Utilize a estrutura de repetição while"
      ],
      "metadata": {
        "id": "O3cYtpm82q6M"
      }
    },
    {
      "cell_type": "code",
      "source": [
        "notas = [2, 5, 10, 50, 100, 200]\n",
        "total_notas = []\n",
        "total = 0\n",
        "while True:\n",
        "  for i in notas:\n",
        "    qtd_notas = int(input(f'Quantas notas de {i} você tem? '))\n",
        "    total_notas.append(qtd_notas * i)\n",
        "  if i == 200: \n",
        "    break\n",
        "\n",
        "for n in total_notas:\n",
        "  total += n\n",
        "print(f'O total de dinheiro que você tem é de: {total:.2f}')"
      ],
      "metadata": {
        "colab": {
          "base_uri": "https://localhost:8080/"
        },
        "id": "Dac6VcXp2vbC",
        "outputId": "9442ad8d-ffd4-4b28-ce79-e7db5e139d43"
      },
      "execution_count": null,
      "outputs": [
        {
          "output_type": "stream",
          "name": "stdout",
          "text": [
            "Quantas notas de 2 você tem? 1\n",
            "Quantas notas de 5 você tem? 1\n",
            "Quantas notas de 10 você tem? 1\n",
            "Quantas notas de 50 você tem? 1\n",
            "Quantas notas de 100 você tem? 1\n",
            "Quantas notas de 200 você tem? 1\n",
            "O total de dinheiro que você tem é de: 367.00\n"
          ]
        }
      ]
    }
  ]
}